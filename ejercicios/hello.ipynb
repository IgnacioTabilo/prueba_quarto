{
  "cells": [
    {
      "cell_type": "markdown",
      "metadata": {},
      "source": [
        "---\n",
        "title: Quarto Computations\n",
        "jupyter: python3\n",
        "---\n",
        "\n",
        "## NumPy"
      ]
    },
    {
      "cell_type": "code",
      "metadata": {},
      "source": [
        "import numpy as np\n",
        "a = np.arange(15).reshape(3, 5)\n",
        "a"
      ],
      "execution_count": null,
      "outputs": []
    },
    {
      "cell_type": "markdown",
      "metadata": {},
      "source": [
        "## Matplotlib"
      ]
    },
    {
      "cell_type": "code",
      "metadata": {},
      "source": [
        "import matplotlib.pyplot as plt\n",
        "\n",
        "fig = plt.figure()\n",
        "x = np.arange(10)\n",
        "y = 2.5 * np.sin(x / 20 * np.pi)\n",
        "yerr = np.linspace(0.05, 0.2, 10)\n",
        "\n",
        "plt.errorbar(x, y + 3, yerr=yerr, label='both limits (default)')\n",
        "plt.errorbar(x, y + 2, yerr=yerr, uplims=True, label='uplims=True')\n",
        "plt.errorbar(x, y + 1, yerr=yerr, uplims=True, lolims=True,\n",
        "             label='uplims=True, lolims=True')\n",
        "\n",
        "upperlimits = [True, False] * 5\n",
        "lowerlimits = [False, True] * 5\n",
        "plt.errorbar(x, y, yerr=yerr, uplims=upperlimits, lolims=lowerlimits,\n",
        "             label='subsets of uplims and lolims')\n",
        "\n",
        "plt.legend(loc='lower right')\n",
        "plt.show(fig)"
      ],
      "execution_count": null,
      "outputs": []
    },
    {
      "cell_type": "markdown",
      "metadata": {},
      "source": [
        "## Plotly"
      ]
    },
    {
      "cell_type": "code",
      "metadata": {},
      "source": [
        "#| label: fig-gapminder\n",
        "#| fig-cap: \"Life Expectancy and GDP\"\n",
        "#| fig-subcap:\n",
        "#|   - \"Gapminder: 1957\"\n",
        "#|   - \"Gapminder: 2007\"\n",
        "#| layout-ncol: 2\n",
        "#| column: page\n",
        "\n",
        "import plotly.express as px\n",
        "import plotly.io as pio\n",
        "gapminder = px.data.gapminder()\n",
        "def gapminder_plot(year):\n",
        "    gapminderYear = gapminder.query(\"year == \" + \n",
        "                                    str(year))\n",
        "    fig = px.scatter(gapminderYear, \n",
        "                     x=\"gdpPercap\", y=\"lifeExp\",\n",
        "                     size=\"pop\", size_max=60,\n",
        "                     hover_name=\"country\")\n",
        "    fig.show()\n",
        "    \n",
        "gapminder_plot(1957)\n",
        "gapminder_plot(2007)"
      ],
      "execution_count": null,
      "outputs": []
    },
    {
      "cell_type": "markdown",
      "metadata": {},
      "source": [
        "## Handcalcs"
      ]
    },
    {
      "cell_type": "code",
      "metadata": {},
      "source": [
        "import handcalcs.render"
      ],
      "execution_count": null,
      "outputs": []
    },
    {
      "cell_type": "code",
      "metadata": {},
      "source": [
        "%%render long\n",
        "A_1 = 34.5 #m$^2$\n",
        "m_s = 2.35 #kg$\\cdot$s$^{-1}$\n",
        "F = m_s/A_1 #kg$\\cdot$m$^{-2}\\cdot$s$^{-1}$"
      ],
      "execution_count": null,
      "outputs": []
    }
  ],
  "metadata": {
    "kernelspec": {
      "name": "python3",
      "language": "python",
      "display_name": "Python 3 (ipykernel)",
      "path": "D:\\python\\share\\jupyter\\kernels\\python3"
    }
  },
  "nbformat": 4,
  "nbformat_minor": 4
}