{
  "cells": [
    {
      "cell_type": "markdown",
      "metadata": {},
      "source": [
        "# Ejercicio 1: ICTC y haces de tubos\n",
        "\n",
        "## Enunciado\n",
        "\n",
        "Luego de enfriar tolueno con un intercambiador de doble tubo, desea\n",
        "determinar si un intercambiador de tubo y carcasa (**ICTC**) tipo 1-2n\n",
        "es una mejor alternativa. En esta situación, cuenta con diferentes\n",
        "flujos de operación. En específico, el flujo de enfriamiento (Agua) que\n",
        "se encuentra en la carcasa será de $F_c = 63~\\text{kg/s}$ y entrará a\n",
        "una temperatura de $25~\\text{°C}$. Mientras que el tolueno pasará por\n",
        "los tubos a contracorriente con un flujo de $F_h = 34.35~\\text{kg/s}$ y\n",
        "a una temperatura inicial de $80~\\text{°C}$. El intercambiador está\n",
        "formado por $N_t=45$ tubos de diámetro interno $d_i=3.5~\\text{cm}$ y\n",
        "grosor de la tubería de $0.78~\\text{cm}$, con un largo $L=5~\\text{m}$ y\n",
        "un arreglo triagular con $2~\\text{cm}$ de espacio entre tubos ($C$). La\n",
        "carcasa, tiene un diámetro de $D_c=0.9~\\text{m}$ y cuenta con $25$\n",
        "deflectores identicamente espaciados a lo largo de ella. Para las\n",
        "propiedades termofísicas de los fluidos utilice:\n",
        "\n",
        "\\`\\`\\`bttrqjyjmvkh Propiedades termofísicas del tolueno y el agua en\n",
        "función de su temperatura promedio. :header-rows: 1 :name: tabla-e2_3_1\n",
        ":align: center\n",
        "\n",
        "-   -   Fluido\n",
        "    -   $c_P~\\text{(J/kg}\\cdot\\text{K)}$\n",
        "    -   $\\rho~\\text{(kg/m}^3\\text{)}$\n",
        "    -   $\\mu~\\text{(Pa}\\cdot\\text{s)}$\n",
        "    -   $k~\\text{(W/m}\\cdot\\text{K)}$\n",
        "-   -   Tolueno\n",
        "    -   1917.25\n",
        "    -   802.355\n",
        "    -   3.003\\$$10$^{-4}\\$\n",
        "    -   0.11329\n",
        "-   -   Agua\n",
        "    -   4181.95\n",
        "    -   996.93\n",
        "    -   8.994\\$$10$^{-4}\\$\n",
        "    -   0.6062 \\`\\`\\`\n",
        "\n",
        "1.  Es deseable que el factor de corrección $F_T$ sea lo más cercano\n",
        "    a 1. Encuentre las temperaturas de salida de ambos fluidos para que\n",
        "    se cumpla esta relación. *Hint: Utilice el gráfico que relaciona el\n",
        "    factor de corrección con la eficiencia de temperaturas.*\n",
        "2.  Calcule el coeficiente de transferencia de calor para el flujo que\n",
        "    pasa por la carcasa.\n",
        "3.  Encuentre la caida de presión para el flujo que pasa por la carcasa.\n",
        "    *Hint: Utilice el gráfico de factor de fricción para arreglos\n",
        "    escalonados.*\n",
        "\n",
        "{ref}`Ver solución <part2:cap3:ex1:sol>`\n",
        "\n",
        "<br/><br/> <br/><br/> <br/><br/> <br/><br/> <br/><br/> <br/><br/>\n",
        "<br/><br/> <br/><br/>\n",
        "\n",
        "(part2:cap3:ex1:sol)= \\## Solución"
      ],
      "id": "6bc19d8b-e6ec-403a-9a06-6f71e6c0ef02"
    },
    {
      "cell_type": "code",
      "execution_count": 17,
      "metadata": {},
      "outputs": [],
      "source": [
        "import handcalcs.render\n",
        "from handcalcs import handcalc\n",
        "from numpy import pi, log, sqrt"
      ],
      "id": "f360e35b-f52d-4990-ba6c-0db05954d491"
    },
    {
      "cell_type": "markdown",
      "metadata": {},
      "source": [
        "### Inciso 1\n",
        "\n",
        "Para situarnos en el gráfico, necesitamos saber la razón de temperaturas\n",
        "$Z$ (En el gráfico está representado por $R$).\n",
        "\n",
        "$$\n",
        "Z = \\frac{F_c\\cdot c_{Pc}}{F_h\\cdot c_{Ph}}\n",
        "$$\n",
        "\n",
        "Anotamos las propiedades termofísicas del enunciado y los flujos."
      ],
      "id": "796bc1de-0b9a-473b-b8d4-85886a68c26d"
    },
    {
      "cell_type": "code",
      "execution_count": 53,
      "metadata": {},
      "outputs": [
        {
          "output_type": "display_data",
          "metadata": {},
          "data": {
            "text/plain": [
              "<IPython.core.display.Latex object>"
            ]
          }
        }
      ],
      "source": [
        "%%render params\n",
        "F_c = 63 #kg/s\n",
        "rho_c = 996.93 #kg/m$^3$\n",
        "mu_c = 8.994e-4 #Pa$\\cdot$s\n",
        "c_Pc = 4181.95 #J/kg$\\cdot$K\n",
        "k_c = 0.6062 #W/m$\\cdot$K\n",
        "F_h = 34.35 #kg/s\n",
        "rho_h = 802.355 #kg/m$^3$\n",
        "mu_h = 3.003e-4 #Pa$\\cdot$s\n",
        "c_Ph = 1917.25 #J/kg$\\cdot$K\n",
        "k_h = 0.11329 #W/m$\\cdot$K"
      ],
      "id": "9047bbc3-7040-44da-bdc4-7f94da264232"
    },
    {
      "cell_type": "code",
      "execution_count": 7,
      "metadata": {},
      "outputs": [
        {
          "output_type": "display_data",
          "metadata": {},
          "data": {
            "text/plain": [
              "<IPython.core.display.Latex object>"
            ]
          }
        }
      ],
      "source": [
        "%%render long\n",
        "Z = (F_c*c_Pc)/(F_h*c_Ph)"
      ],
      "id": "00341bfb-03dc-48a1-8d21-5f93b5eac5f2"
    },
    {
      "cell_type": "markdown",
      "metadata": {},
      "source": [
        "De esta manera, nos situamos el la curva $R~\\text{o}~Z=4$. Y buscamos el\n",
        "valor de $\\eta_H$ tal que $F_T$ sea 1. De manera que encontramos que\n",
        "para que esto se cumpla $\\eta_H \\approx 0.05$. Luego, por definición:\n",
        "\n",
        "$$\n",
        "\\eta_H = \\frac{T_{c,o}-T_{c,i}}{T_{h,i}-T_{c,i}}\n",
        "$$"
      ],
      "id": "86189837-9089-4117-84a8-e672d21e43f1"
    },
    {
      "cell_type": "code",
      "execution_count": 33,
      "metadata": {},
      "outputs": [
        {
          "output_type": "display_data",
          "metadata": {},
          "data": {
            "text/plain": [
              "<IPython.core.display.Latex object>"
            ]
          }
        }
      ],
      "source": [
        "%%render long\n",
        "T_ci = 25+273.15 #K\n",
        "T_hi = 80+273.15 #K\n",
        "eta_H = 0.05\n",
        "T_co = eta_H*(T_hi-T_ci) + T_ci #K"
      ],
      "id": "c7204794-83b1-4481-b9e8-09f9c8b67bcb"
    },
    {
      "cell_type": "markdown",
      "metadata": {},
      "source": [
        "Luego despejamos $T_{h,o}$ mediante $Z$."
      ],
      "id": "18ce35e4-f6c8-4cbd-83d3-3f6f4137b097"
    },
    {
      "cell_type": "code",
      "execution_count": 32,
      "metadata": {},
      "outputs": [
        {
          "output_type": "display_data",
          "metadata": {},
          "data": {
            "text/plain": [
              "<IPython.core.display.Latex object>"
            ]
          }
        }
      ],
      "source": [
        "%%render long\n",
        "T_ho = T_hi - Z*(T_co - T_ci) #K"
      ],
      "id": "9dcf3f31-27e9-4a88-9337-e09b9a7624df"
    },
    {
      "cell_type": "markdown",
      "metadata": {},
      "source": [
        "Entonces, las temperaturas de salida del agua será\n",
        "$T_{c,o} \\approx 27.75~\\text{°C}$ y la del tolueno\n",
        "$T_{h,o} \\approx 69~\\text{°C}$.\n",
        "\n",
        "### Inciso 2\n",
        "\n",
        "En primer lugar, debemos encontrar el flujo posible entre los\n",
        "deflectores y tubos. Para esto calculamos el área disponible de flujo.\n",
        "\n",
        "$$\n",
        "a_c = D_cB\\frac{C}{P_T}\n",
        "$$\n",
        "\n",
        "Ya que los deflectores se encuentran especiados de igual forma, sabemos\n",
        "entonces que el espacio entre deflectores será:\n",
        "\n",
        "$$\n",
        "N_B = \\frac{L}{B}-1\n",
        "$$\n",
        "\n",
        "Mientras que el espacio entre los centros de dos tubos $P_T$ viene dado\n",
        "por la relación entre $C$ y el diámetro externo de las tuberías.\n",
        "\n",
        "$$\n",
        "P_T = C + d_e = C + \\left(d_i + e\\right)\n",
        "$$\n",
        "\n",
        "Con estas relaciones somos capaces de encontrar el diámetro equivalente\n",
        "para el flujo en la carcasa para arreglos triangulares (o escalonados).\n",
        "\n",
        "$$\n",
        "D_e = \\frac{3.44P_T^2-\\pi d_e^2}{\\pi d_e}\n",
        "$$"
      ],
      "id": "53076229-5573-49c0-9257-323e74d41593"
    },
    {
      "cell_type": "code",
      "execution_count": 36,
      "metadata": {},
      "outputs": [
        {
          "output_type": "display_data",
          "metadata": {},
          "data": {
            "text/plain": [
              "<IPython.core.display.Latex object>"
            ]
          }
        }
      ],
      "source": [
        "%%render params sci_not\n",
        "d_i = 3.5/100 #m\n",
        "e = 0.78/100 #m\n",
        "D_c = 0.9 #m\n",
        "N_B = 25\n",
        "L = 5\n",
        "C = 2/100 #m\n",
        "N_t = 45"
      ],
      "id": "faadbe66-6eab-4659-8d50-0a5579b674a1"
    },
    {
      "cell_type": "code",
      "execution_count": 39,
      "metadata": {},
      "outputs": [
        {
          "output_type": "display_data",
          "metadata": {},
          "data": {
            "text/plain": [
              "<IPython.core.display.Latex object>"
            ]
          }
        }
      ],
      "source": [
        "%%render long\n",
        "B = L/(N_B+1) #m\n",
        "d_e = d_i+e #m\n",
        "P_T = C+d_e #m\n",
        "D_e = (3.44*P_T**2-pi*d_e**2)/(pi*d_e) #m\n",
        "a_c = D_c*B*(C/P_T) #m$^2$"
      ],
      "id": "9d5f77cd-ca50-4acd-89ba-4f79eb8345c1"
    },
    {
      "cell_type": "markdown",
      "metadata": {},
      "source": [
        "Con esta información podemos calcular el número de Reynolds.\n",
        "\n",
        "$$\n",
        "Re = \\frac{G_cD_e}{\\mu}\n",
        "$$"
      ],
      "id": "373cbda1-87dc-4551-99e4-4912665dc409"
    },
    {
      "cell_type": "code",
      "execution_count": 42,
      "metadata": {},
      "outputs": [
        {
          "output_type": "display_data",
          "metadata": {},
          "data": {
            "text/plain": [
              "<IPython.core.display.Latex object>"
            ]
          }
        }
      ],
      "source": [
        "%%render long\n",
        "G_c = F_c/a_c #kg/m$^2\\cdot$s\n",
        "Re = (G_c*D_e)/mu_c"
      ],
      "id": "af6af0d2-638b-4c9b-92fb-e99b072a91fd"
    },
    {
      "cell_type": "markdown",
      "metadata": {},
      "source": [
        "Ya que nos encontramos ante un Reynolds que se encuentra dentro del\n",
        "rango disponible utilizamos la siguiente correlación asumiendo\n",
        "$\\mu\\approx\\mu_s$.\n",
        "\n",
        "$$\n",
        "Nu = 0.36Re^{0.55}Pr^{1/3}\n",
        "$$"
      ],
      "id": "cbb19328-c998-4f31-8d20-214dc88c9479"
    },
    {
      "cell_type": "code",
      "execution_count": 44,
      "metadata": {},
      "outputs": [
        {
          "output_type": "display_data",
          "metadata": {},
          "data": {
            "text/plain": [
              "<IPython.core.display.Latex object>"
            ]
          }
        }
      ],
      "source": [
        "%%render long\n",
        "Pr = (mu_c*c_Pc)/k_c\n",
        "Nusselt = 0.36*Re**(0.55)*Pr**(1/3)"
      ],
      "id": "c70ba005-b44f-4356-b569-21ab40bcdf78"
    },
    {
      "cell_type": "markdown",
      "metadata": {},
      "source": [
        "Finalmente encontramos el coeficiente de transferencia de calor de la\n",
        "carcasa.\n",
        "\n",
        "$$\n",
        "h_c = \\frac{Nu\\cdot k}{D_e} \n",
        "$$"
      ],
      "id": "4eec7970-2eea-4363-a9da-f94db4e1b148"
    },
    {
      "cell_type": "code",
      "execution_count": 45,
      "metadata": {},
      "outputs": [
        {
          "output_type": "display_data",
          "metadata": {},
          "data": {
            "text/plain": [
              "<IPython.core.display.Latex object>"
            ]
          }
        }
      ],
      "source": [
        "%%render long \n",
        "h_c = (Nusselt*k_c)/D_e #W/m$^2\\cdot$K"
      ],
      "id": "7926cfa9-9050-4d96-8c62-fec5cf0437bd"
    },
    {
      "cell_type": "markdown",
      "metadata": {},
      "source": [
        "### Inciso 3\n",
        "\n",
        "Para poder utilizar el gráfico, necesitamos saber la curva que\n",
        "utilizaremos, estas representan el espacio que hay entre los centros de\n",
        "los tubos $P_T$ en $inch$."
      ],
      "id": "955bf675-4c91-4359-97d5-14b693f5b986"
    },
    {
      "cell_type": "code",
      "execution_count": 48,
      "metadata": {},
      "outputs": [
        {
          "output_type": "display_data",
          "metadata": {},
          "data": {
            "text/plain": [
              "<IPython.core.display.Latex object>"
            ]
          }
        }
      ],
      "source": [
        "%%render params\n",
        "P_T = P_T/0.0254 #inch"
      ],
      "id": "393e8ac8-dacc-435f-b00e-5fff64af564a"
    },
    {
      "cell_type": "markdown",
      "metadata": {},
      "source": [
        "Nos ubicamos en la curva donde $P_T\\approx2.5~\\text{inch}$ y\n",
        "$Re=7.383\\times10^{4}$. Entonces $f'\\approx0.2$.\n",
        "\n",
        "Luego la caida de presiones será:\n",
        "\n",
        "$$\n",
        "\\Delta p = f'\\left[\\frac{\\left(N_B+1\\right)D_c}{D_e}\\right]\\left(\\frac{G_c^2}{2\\rho}\\right)\n",
        "$$"
      ],
      "id": "60af9b06-f8b7-49b2-86eb-f654112d073d"
    },
    {
      "cell_type": "code",
      "execution_count": 59,
      "metadata": {},
      "outputs": [
        {
          "output_type": "display_data",
          "metadata": {},
          "data": {
            "text/plain": [
              "<IPython.core.display.Latex object>"
            ]
          }
        }
      ],
      "source": [
        "%%render long\n",
        "f = 0.2\n",
        "Dp= f*((N_B+1)*D_c)/(D_e)*(G_c**2/(2*rho_c)) #Pa"
      ],
      "id": "c921cd8a-edd1-4ed2-a0e9-f2138f60f939"
    }
  ],
  "nbformat": 4,
  "nbformat_minor": 5,
  "metadata": {
    "kernelspec": {
      "name": "python3",
      "display_name": "Python 3 (ipykernel)",
      "language": "python"
    },
    "language_info": {
      "name": "python",
      "codemirror_mode": {
        "name": "ipython",
        "version": "3"
      },
      "file_extension": ".py",
      "mimetype": "text/x-python",
      "nbconvert_exporter": "python",
      "pygments_lexer": "ipython3",
      "version": "3.11.7"
    }
  }
}